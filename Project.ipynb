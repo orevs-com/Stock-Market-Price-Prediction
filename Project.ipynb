{
  "nbformat": 4,
  "nbformat_minor": 0,
  "metadata": {
    "colab": {
      "provenance": [],
      "authorship_tag": "ABX9TyOt7Q480QeFepVxFpRnkaO5",
      "include_colab_link": true
    },
    "kernelspec": {
      "name": "python3",
      "display_name": "Python 3"
    },
    "language_info": {
      "name": "python"
    }
  },
  "cells": [
    {
      "cell_type": "markdown",
      "metadata": {
        "id": "view-in-github",
        "colab_type": "text"
      },
      "source": [
        "<a href=\"https://colab.research.google.com/github/orevs-com/Stock-Market-Price-Prediction/blob/main/Project.ipynb\" target=\"_parent\"><img src=\"https://colab.research.google.com/assets/colab-badge.svg\" alt=\"Open In Colab\"/></a>"
      ]
    },
    {
      "cell_type": "code",
      "execution_count": null,
      "metadata": {
        "id": "V8zfClC4RtzD"
      },
      "outputs": [],
      "source": []
    },
    {
      "cell_type": "markdown",
      "source": [
        "# Stock Market Price Prediction using LSTM : A comaparative Analysis\n",
        "# by Orevaoghene Otiede"
      ],
      "metadata": {
        "id": "WC1ufaXavhsS"
      }
    },
    {
      "cell_type": "markdown",
      "source": [
        "Importing the required libraries for the project\n"
      ],
      "metadata": {
        "id": "ltjuMkQJv6Gx"
      }
    },
    {
      "cell_type": "code",
      "source": [
        "#Importing the Libraries\n",
        "import pandas as pd\n",
        "import numpy as np\n",
        "import matplotlib.pyplot as plt\n",
        "import matplotlib.dates as mdates\n",
        "from sklearn.preprocessing import MinMaxScaler\n",
        "from sklearn.model_selection import TimeSeriesSplit\n",
        "from sklearn.metrics import mean_squared_error, r2_score\n",
        "from sklearn import linear_model\n",
        "from keras.models import Sequential, load_model\n",
        "from keras.layers import LSTM, Dense, Dropout\n",
        "from keras.optimizers import Adam\n",
        "from keras.callbacks import EarlyStopping\n",
        "from tensorflow.keras.utils import plot_model\n",
        "import keras.backend as K\n",
        "import yfinance as yf\n",
        "import os"
      ],
      "metadata": {
        "id": "YxI-S3pDwFZV"
      },
      "execution_count": 9,
      "outputs": []
    },
    {
      "cell_type": "code",
      "source": [
        "# Import the drive module from the google.colab package.\n",
        "from google.colab import drive\n",
        "\n",
        "# Mount the Google Drive to the specified mount point in the Colab environment.\n",
        "drive.mount('/content/drive')"
      ],
      "metadata": {
        "colab": {
          "base_uri": "https://localhost:8080/"
        },
        "id": "G1O2owTDPbuS",
        "outputId": "f555bd56-ba22-4e73-cd60-aee8fb2e8a3d"
      },
      "execution_count": 10,
      "outputs": [
        {
          "output_type": "stream",
          "name": "stdout",
          "text": [
            "Drive already mounted at /content/drive; to attempt to forcibly remount, call drive.mount(\"/content/drive\", force_remount=True).\n"
          ]
        }
      ]
    },
    {
      "cell_type": "markdown",
      "source": [
        "List of ticker symbols for Training Companies"
      ],
      "metadata": {
        "id": "UENSEN76WMjK"
      }
    },
    {
      "cell_type": "code",
      "source": [
        "# Create a list of Ticker Symbols\n",
        "train_tickers = ['AAPL', 'MSFT', 'GOOGL', 'AMZN', 'NVDA', 'META']\n",
        "test_tickers = ['TSLA', 'AVGO', 'COST', 'NFLX', 'ADBE', 'INTC']"
      ],
      "metadata": {
        "id": "-XEBSgMHWqas"
      },
      "execution_count": 11,
      "outputs": []
    },
    {
      "cell_type": "markdown",
      "source": [
        "Downloading and Saving the Stock Market Price Data"
      ],
      "metadata": {
        "id": "XzQ0BF2Vycvy"
      }
    },
    {
      "cell_type": "code",
      "source": [
        "# Define the date range\n",
        "start_date = \"2015-01-01\"\n",
        "end_date = \"2024-12-31\"\n",
        "# Define the file path\n",
        "drive_path = '/content/drive/MyDrive/Colab Notebooks/Stock Market Data/'\n",
        "\n",
        "print(f\"Downloading daily stock data from {start_date} to {end_date} and saving individually...\")\n",
        "\n",
        "# Function to download and save data for a list of tickers\n",
        "def download_and_save_tickers(tickers, start, end, base_path):\n",
        "    for ticker in tickers:\n",
        "        try:\n",
        "            print(f\"Fetching data for {ticker}...\")\n",
        "            # auto_adjust=True is crucial for adjusted close prices\n",
        "            df = yf.download(ticker, start=start, end=end, interval=\"1d\", auto_adjust=True)\n",
        "\n",
        "            if not df.empty:\n",
        "                file_path = os.path.join(base_path, f\"{ticker}.csv\")\n",
        "                df.to_csv(file_path)\n",
        "                print(f\"Successfully downloaded and saved data for {ticker} to {file_path}\")\n",
        "            else:\n",
        "                print(f\"No data found for {ticker} in the specified date range.\")\n",
        "\n",
        "        except Exception as e:\n",
        "            print(f\"Error downloading data for {ticker}: {e}\")\n",
        "\n",
        "# Download and save training data\n",
        "print(\"\\n--- Downloading Training Data ---\")\n",
        "download_and_save_tickers(train_tickers, start_date, end_date, drive_path)\n",
        "\n",
        "# Download and save testing data\n",
        "print(\"\\n--- Downloading Testing Data ---\")\n",
        "download_and_save_tickers(test_tickers, start_date, end_date, drive_path)\n",
        "\n",
        "print(\"\\nAll data download attempts complete. Check the specified Google Drive folder for individual CSVs.\")"
      ],
      "metadata": {
        "colab": {
          "base_uri": "https://localhost:8080/"
        },
        "id": "XhurJAlLzrCC",
        "outputId": "39aa3068-7009-4652-e4b2-f5cadcd24ce5"
      },
      "execution_count": 13,
      "outputs": [
        {
          "output_type": "stream",
          "name": "stderr",
          "text": [
            "[*********************100%***********************]  1 of 1 completed\n",
            "[*********************100%***********************]  1 of 1 completed"
          ]
        },
        {
          "output_type": "stream",
          "name": "stdout",
          "text": [
            "Downloading daily stock data from 2015-01-01 to 2024-12-31 and saving individually...\n",
            "\n",
            "--- Downloading Training Data ---\n",
            "Fetching data for AAPL...\n",
            "Successfully downloaded and saved data for AAPL to /content/drive/MyDrive/Colab Notebooks/Stock Market Data/AAPL.csv\n",
            "Fetching data for MSFT...\n",
            "Successfully downloaded and saved data for MSFT to /content/drive/MyDrive/Colab Notebooks/Stock Market Data/MSFT.csv\n",
            "Fetching data for GOOGL...\n"
          ]
        },
        {
          "output_type": "stream",
          "name": "stderr",
          "text": [
            "\n",
            "[*********************100%***********************]  1 of 1 completed\n",
            "[*********************100%***********************]  1 of 1 completed\n"
          ]
        },
        {
          "output_type": "stream",
          "name": "stdout",
          "text": [
            "Successfully downloaded and saved data for GOOGL to /content/drive/MyDrive/Colab Notebooks/Stock Market Data/GOOGL.csv\n",
            "Fetching data for AMZN...\n",
            "Successfully downloaded and saved data for AMZN to /content/drive/MyDrive/Colab Notebooks/Stock Market Data/AMZN.csv\n",
            "Fetching data for NVDA...\n"
          ]
        },
        {
          "output_type": "stream",
          "name": "stderr",
          "text": [
            "[*********************100%***********************]  1 of 1 completed\n",
            "[*********************100%***********************]  1 of 1 completed\n",
            "[*********************100%***********************]  1 of 1 completed"
          ]
        },
        {
          "output_type": "stream",
          "name": "stdout",
          "text": [
            "Successfully downloaded and saved data for NVDA to /content/drive/MyDrive/Colab Notebooks/Stock Market Data/NVDA.csv\n",
            "Fetching data for META...\n",
            "Successfully downloaded and saved data for META to /content/drive/MyDrive/Colab Notebooks/Stock Market Data/META.csv\n",
            "\n",
            "--- Downloading Testing Data ---\n",
            "Fetching data for TSLA...\n"
          ]
        },
        {
          "output_type": "stream",
          "name": "stderr",
          "text": [
            "\n",
            "[*********************100%***********************]  1 of 1 completed\n",
            "[*********************100%***********************]  1 of 1 completed"
          ]
        },
        {
          "output_type": "stream",
          "name": "stdout",
          "text": [
            "Successfully downloaded and saved data for TSLA to /content/drive/MyDrive/Colab Notebooks/Stock Market Data/TSLA.csv\n",
            "Fetching data for AVGO...\n",
            "Successfully downloaded and saved data for AVGO to /content/drive/MyDrive/Colab Notebooks/Stock Market Data/AVGO.csv\n",
            "Fetching data for COST...\n"
          ]
        },
        {
          "output_type": "stream",
          "name": "stderr",
          "text": [
            "\n",
            "[*********************100%***********************]  1 of 1 completed\n",
            "[*********************100%***********************]  1 of 1 completed"
          ]
        },
        {
          "output_type": "stream",
          "name": "stdout",
          "text": [
            "Successfully downloaded and saved data for COST to /content/drive/MyDrive/Colab Notebooks/Stock Market Data/COST.csv\n",
            "Fetching data for NFLX...\n",
            "Successfully downloaded and saved data for NFLX to /content/drive/MyDrive/Colab Notebooks/Stock Market Data/NFLX.csv\n",
            "Fetching data for ADBE...\n"
          ]
        },
        {
          "output_type": "stream",
          "name": "stderr",
          "text": [
            "\n",
            "[*********************100%***********************]  1 of 1 completed"
          ]
        },
        {
          "output_type": "stream",
          "name": "stdout",
          "text": [
            "Successfully downloaded and saved data for ADBE to /content/drive/MyDrive/Colab Notebooks/Stock Market Data/ADBE.csv\n",
            "Fetching data for INTC...\n",
            "Successfully downloaded and saved data for INTC to /content/drive/MyDrive/Colab Notebooks/Stock Market Data/INTC.csv\n",
            "\n",
            "All data download attempts complete. Check the specified Google Drive folder for individual CSVs.\n"
          ]
        },
        {
          "output_type": "stream",
          "name": "stderr",
          "text": [
            "\n"
          ]
        }
      ]
    }
  ]
}